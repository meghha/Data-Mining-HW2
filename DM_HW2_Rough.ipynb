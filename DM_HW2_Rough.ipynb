{
  "nbformat": 4,
  "nbformat_minor": 0,
  "metadata": {
    "colab": {
      "provenance": [],
      "authorship_tag": "ABX9TyMcXjW8cR/rUs6mJ/jsBUcf"
    },
    "kernelspec": {
      "name": "python3",
      "display_name": "Python 3"
    },
    "language_info": {
      "name": "python"
    }
  },
  "cells": [
    {
      "cell_type": "code",
      "execution_count": 2,
      "metadata": {
        "id": "N7EGZAJbvPps"
      },
      "outputs": [],
      "source": [
        "import numpy as np"
      ]
    },
    {
      "cell_type": "code",
      "source": [
        "def log2(x):\n",
        "  if x==0:\n",
        "    return 0;\n",
        "  else :\n",
        "    return np.log2(x);"
      ],
      "metadata": {
        "id": "nezoW60twwW7"
      },
      "execution_count": 3,
      "outputs": []
    },
    {
      "cell_type": "code",
      "source": [
        "def weighted_entropy_(y_y,y_n,n_y,n_n):\n",
        "  y_tot = y_y + y_n\n",
        "  n_tot = n_y + n_n\n",
        "  tot = y_tot + n_tot\n",
        "\n",
        "  entropy_y = -(y_y/y_tot * log2(y_y/y_tot) + y_n/y_tot * log2(y_n/y_tot))\n",
        "  entropy_n = -(n_y/n_tot * log2(n_y/n_tot) + n_n/n_tot * log2(n_n/n_tot))\n",
        "  weighted_entropy = (y_tot/tot * (entropy_y)) + (n_tot/tot * (entropy_n))\n",
        "  return weighted_entropy"
      ],
      "metadata": {
        "id": "Q1PBnI-rvy5f"
      },
      "execution_count": 4,
      "outputs": []
    },
    {
      "cell_type": "markdown",
      "source": [
        "## Question 1 - Binary Tree for lung cancer\n",
        "### Total Entropy: H"
      ],
      "metadata": {
        "id": "OlbTiQxBvirW"
      }
    },
    {
      "cell_type": "code",
      "source": [
        "nb_y = 5\n",
        "nb_n = 5\n",
        "ntot = nb_y + nb_n\n",
        "H = -(nb_y/ntot * np.log2(nb_y/ntot) + nb_n/ntot * np.log2(nb_n/ntot))"
      ],
      "metadata": {
        "id": "AyTRRtJxwT3k"
      },
      "execution_count": 5,
      "outputs": []
    },
    {
      "cell_type": "code",
      "source": [
        "H"
      ],
      "metadata": {
        "colab": {
          "base_uri": "https://localhost:8080/"
        },
        "id": "DP3tNgoh7scK",
        "outputId": "766cfc7d-478d-45ae-9f88-f4e82a1fe2aa"
      },
      "execution_count": 62,
      "outputs": [
        {
          "output_type": "execute_result",
          "data": {
            "text/plain": [
              "1.0"
            ]
          },
          "metadata": {},
          "execution_count": 62
        }
      ]
    },
    {
      "cell_type": "markdown",
      "source": [
        "### Level 1 - Smoking"
      ],
      "metadata": {
        "id": "cx_PwFp6wvJa"
      }
    },
    {
      "cell_type": "code",
      "source": [
        "smoking_y_y = 4\n",
        "smoking_y_n = 1\n",
        "smoking_n_y = 1\n",
        "smoking_n_n = 4\n",
        "weighted_entropy_smoking = weighted_entropy_(smoking_y_y,smoking_y_n,smoking_n_y,smoking_n_n)"
      ],
      "metadata": {
        "id": "y5PqUWitvSe1"
      },
      "execution_count": 40,
      "outputs": []
    },
    {
      "cell_type": "code",
      "source": [
        "print(round(weighted_entropy_smoking,4))\n",
        "print(round(H-weighted_entropy_smoking,4))"
      ],
      "metadata": {
        "colab": {
          "base_uri": "https://localhost:8080/"
        },
        "id": "QDNsjJPPwKj1",
        "outputId": "ca5fc419-d184-4457-ef0a-b08c8ab7306e"
      },
      "execution_count": 41,
      "outputs": [
        {
          "output_type": "stream",
          "name": "stdout",
          "text": [
            "0.7219\n",
            "0.2781\n"
          ]
        }
      ]
    },
    {
      "cell_type": "markdown",
      "source": [
        "### Level 1 - Coughing"
      ],
      "metadata": {
        "id": "LbG3MeDawxZC"
      }
    },
    {
      "cell_type": "code",
      "source": [
        "y_y = 4\n",
        "y_n = 3\n",
        "n_y = 1\n",
        "n_n = 2\n",
        "weighted_entropy_cough = weighted_entropy_(y_y,y_n,n_y,n_n)"
      ],
      "metadata": {
        "id": "9hcDnOQsw1P0"
      },
      "execution_count": 32,
      "outputs": []
    },
    {
      "cell_type": "code",
      "source": [
        "print(round(weighted_entropy_cough,4))\n",
        "print(round(H-weighted_entropy_cough,4))"
      ],
      "metadata": {
        "colab": {
          "base_uri": "https://localhost:8080/"
        },
        "id": "3etieMJ_xDMi",
        "outputId": "8047e9a8-5ea5-4f16-f25b-5d0db1c7ea71"
      },
      "execution_count": 39,
      "outputs": [
        {
          "output_type": "stream",
          "name": "stdout",
          "text": [
            "0.9651\n",
            "0.0349\n"
          ]
        }
      ]
    },
    {
      "cell_type": "markdown",
      "source": [
        "### Level 1 - Radon"
      ],
      "metadata": {
        "id": "ylZgZ3tGxPG2"
      }
    },
    {
      "cell_type": "code",
      "source": [
        "y_y = 2\n",
        "y_n = 0\n",
        "n_y = 3\n",
        "n_n = 5\n",
        "weighted_entropy_radon = weighted_entropy_(y_y,y_n,n_y,n_n)"
      ],
      "metadata": {
        "id": "3Cxq0IP3xZWA"
      },
      "execution_count": 43,
      "outputs": []
    },
    {
      "cell_type": "code",
      "source": [
        "print(round(weighted_entropy_radon,4))\n",
        "print(round(H-weighted_entropy_radon,4))"
      ],
      "metadata": {
        "colab": {
          "base_uri": "https://localhost:8080/"
        },
        "id": "35MfAWJgxoTt",
        "outputId": "d8355781-7bff-453a-ecaa-577817e75759"
      },
      "execution_count": 44,
      "outputs": [
        {
          "output_type": "stream",
          "name": "stdout",
          "text": [
            "0.7635\n",
            "0.2365\n"
          ]
        }
      ]
    },
    {
      "cell_type": "markdown",
      "source": [
        "### Level 1 - Weight loss"
      ],
      "metadata": {
        "id": "q4FAU742yzD8"
      }
    },
    {
      "cell_type": "code",
      "source": [
        "y_y = 3\n",
        "y_n = 2\n",
        "n_y = 2\n",
        "n_n = 3\n",
        "weighted_entropy_wl = weighted_entropy_(y_y,y_n,n_y,n_n)"
      ],
      "metadata": {
        "id": "pQxXtXaHzvkV"
      },
      "execution_count": 45,
      "outputs": []
    },
    {
      "cell_type": "code",
      "source": [
        "print(round(weighted_entropy_wl,4))\n",
        "print(round(H-weighted_entropy_wl,4))"
      ],
      "metadata": {
        "colab": {
          "base_uri": "https://localhost:8080/"
        },
        "id": "cvEE7QOrz-77",
        "outputId": "05c0b18d-d882-4404-ad85-b30d8a194568"
      },
      "execution_count": 46,
      "outputs": [
        {
          "output_type": "stream",
          "name": "stdout",
          "text": [
            "0.971\n",
            "0.029\n"
          ]
        }
      ]
    },
    {
      "cell_type": "markdown",
      "source": [
        "## Level 2 - Left"
      ],
      "metadata": {
        "id": "x7Llk1v4u5A7"
      }
    },
    {
      "cell_type": "markdown",
      "source": [
        "## Total Entropy"
      ],
      "metadata": {
        "id": "s0KsjYRj8VHz"
      }
    },
    {
      "cell_type": "code",
      "source": [
        "nb_y = 4\n",
        "nb_n = 1\n",
        "ntot = nb_y + nb_n\n",
        "H = -(nb_y/ntot * np.log2(nb_y/ntot) + nb_n/ntot * np.log2(nb_n/ntot))"
      ],
      "metadata": {
        "id": "AVNKvqp88PX1"
      },
      "execution_count": 68,
      "outputs": []
    },
    {
      "cell_type": "markdown",
      "source": [
        "### Cough - left"
      ],
      "metadata": {
        "id": "JBGmQ-L98Xbn"
      }
    },
    {
      "cell_type": "code",
      "source": [
        "y_y = 4\n",
        "y_n = 0\n",
        "n_y = 0\n",
        "n_n = 1\n",
        "weighted_entropy_cough_left = weighted_entropy_(y_y,y_n,n_y,n_n)"
      ],
      "metadata": {
        "id": "XxNRbZTPu4Ly"
      },
      "execution_count": 49,
      "outputs": []
    },
    {
      "cell_type": "code",
      "source": [
        "print(weighted_entropy_cough_left)"
      ],
      "metadata": {
        "colab": {
          "base_uri": "https://localhost:8080/"
        },
        "id": "8rhH-jsjzOf5",
        "outputId": "d9418c5a-f6e7-48dc-a3d2-bffe4f62d483"
      },
      "execution_count": 52,
      "outputs": [
        {
          "output_type": "stream",
          "name": "stdout",
          "text": [
            "-0.0\n"
          ]
        }
      ]
    },
    {
      "cell_type": "code",
      "source": [
        "round(H - weighted_entropy_cough_left,4)"
      ],
      "metadata": {
        "colab": {
          "base_uri": "https://localhost:8080/"
        },
        "id": "iH7aEk2tzvjK",
        "outputId": "e63d6ed9-2c84-4070-f907-0da01ef3e0e3"
      },
      "execution_count": 69,
      "outputs": [
        {
          "output_type": "execute_result",
          "data": {
            "text/plain": [
              "0.7219"
            ]
          },
          "metadata": {},
          "execution_count": 69
        }
      ]
    },
    {
      "cell_type": "markdown",
      "source": [
        "### Radon - Left"
      ],
      "metadata": {
        "id": "2rZTlw6X5qtY"
      }
    },
    {
      "cell_type": "code",
      "source": [
        "y_y = 1\n",
        "y_n = 0\n",
        "n_y = 3\n",
        "n_n = 1\n",
        "weighted_entropy_radon_left = weighted_entropy_(y_y,y_n,n_y,n_n)"
      ],
      "metadata": {
        "id": "QqW40SI75izb"
      },
      "execution_count": 54,
      "outputs": []
    },
    {
      "cell_type": "code",
      "source": [
        "round(weighted_entropy_radon_left,4)"
      ],
      "metadata": {
        "colab": {
          "base_uri": "https://localhost:8080/"
        },
        "id": "CJNe0enk5no2",
        "outputId": "6d7a9f65-32b0-41ad-8e40-f6c039be098d"
      },
      "execution_count": 56,
      "outputs": [
        {
          "output_type": "execute_result",
          "data": {
            "text/plain": [
              "0.649"
            ]
          },
          "metadata": {},
          "execution_count": 56
        }
      ]
    },
    {
      "cell_type": "code",
      "source": [
        "round(H - weighted_entropy_radon_left,4)"
      ],
      "metadata": {
        "colab": {
          "base_uri": "https://localhost:8080/"
        },
        "id": "wbM6plSi6kaA",
        "outputId": "e2daedf2-39c9-4895-e695-0b2e5b7fd9bf"
      },
      "execution_count": 70,
      "outputs": [
        {
          "output_type": "execute_result",
          "data": {
            "text/plain": [
              "0.0729"
            ]
          },
          "metadata": {},
          "execution_count": 70
        }
      ]
    },
    {
      "cell_type": "markdown",
      "source": [
        "### Weight Loss"
      ],
      "metadata": {
        "id": "vmip69rT9ATX"
      }
    },
    {
      "cell_type": "code",
      "source": [
        "y_y = 2\n",
        "y_n = 0\n",
        "n_y = 2\n",
        "n_n = 1\n",
        "weighted_entropy_wl_left = weighted_entropy_(y_y,y_n,n_y,n_n)"
      ],
      "metadata": {
        "id": "cHkP98f69Ja_"
      },
      "execution_count": 71,
      "outputs": []
    },
    {
      "cell_type": "code",
      "source": [
        "round(H - weighted_entropy_wl_left,4)"
      ],
      "metadata": {
        "colab": {
          "base_uri": "https://localhost:8080/"
        },
        "id": "iueZbfJQ9J-7",
        "outputId": "e6a8dc54-f6c6-4b3d-f872-1a7595dac38d"
      },
      "execution_count": 72,
      "outputs": [
        {
          "output_type": "execute_result",
          "data": {
            "text/plain": [
              "0.171"
            ]
          },
          "metadata": {},
          "execution_count": 72
        }
      ]
    },
    {
      "cell_type": "markdown",
      "source": [
        "## Level 2 - Right"
      ],
      "metadata": {
        "id": "aP3lvxhz9avp"
      }
    },
    {
      "cell_type": "code",
      "source": [
        "nb_y = 1\n",
        "nb_n = 4\n",
        "ntot = nb_y + nb_n\n",
        "H = -(nb_y/ntot * np.log2(nb_y/ntot) + nb_n/ntot * np.log2(nb_n/ntot))"
      ],
      "metadata": {
        "id": "m2L251mB9iqv"
      },
      "execution_count": 77,
      "outputs": []
    },
    {
      "cell_type": "markdown",
      "source": [
        "### Cough - Right"
      ],
      "metadata": {
        "id": "3gq9LNBV9r6u"
      }
    },
    {
      "cell_type": "code",
      "source": [
        "y_y = 0\n",
        "y_n = 3\n",
        "n_y = 1\n",
        "n_n = 1\n",
        "weighted_entropy_cough_right = weighted_entropy_(y_y,y_n,n_y,n_n)"
      ],
      "metadata": {
        "id": "J8GZ7bUl9rAz"
      },
      "execution_count": 84,
      "outputs": []
    },
    {
      "cell_type": "code",
      "source": [
        "round(H-weighted_entropy_cough_right,4)"
      ],
      "metadata": {
        "colab": {
          "base_uri": "https://localhost:8080/"
        },
        "id": "7SY5rq3G_lcS",
        "outputId": "0f144573-aa2c-4d7d-bd95-48e222e0f70a"
      },
      "execution_count": 85,
      "outputs": [
        {
          "output_type": "execute_result",
          "data": {
            "text/plain": [
              "0.3219"
            ]
          },
          "metadata": {},
          "execution_count": 85
        }
      ]
    },
    {
      "cell_type": "markdown",
      "source": [
        "### Radon - Right"
      ],
      "metadata": {
        "id": "gThSbDrk-CE0"
      }
    },
    {
      "cell_type": "code",
      "source": [
        "y_y = 1\n",
        "y_n = 0\n",
        "n_y = 0\n",
        "n_n = 4\n",
        "weighted_entropy_radon_right = weighted_entropy_(y_y,y_n,n_y,n_n)"
      ],
      "metadata": {
        "id": "-ScFtdG1-KLK"
      },
      "execution_count": 81,
      "outputs": []
    },
    {
      "cell_type": "code",
      "source": [
        "round(H-weighted_entropy_radon_right,4)"
      ],
      "metadata": {
        "colab": {
          "base_uri": "https://localhost:8080/"
        },
        "id": "aI12c8_j-YLM",
        "outputId": "e0885f16-9dfe-45b1-ae98-3bbb8a3fe467"
      },
      "execution_count": 82,
      "outputs": [
        {
          "output_type": "execute_result",
          "data": {
            "text/plain": [
              "0.7219"
            ]
          },
          "metadata": {},
          "execution_count": 82
        }
      ]
    },
    {
      "cell_type": "markdown",
      "source": [
        "#### Weight  Loss - Right"
      ],
      "metadata": {
        "id": "pLONmzjR_uS8"
      }
    },
    {
      "cell_type": "code",
      "source": [
        "y_y = 1\n",
        "y_n = 2\n",
        "n_y = 0\n",
        "n_n = 2\n",
        "weighted_entropy_wl_right = weighted_entropy_(y_y,y_n,n_y,n_n)"
      ],
      "metadata": {
        "id": "scLOSIHv_2MJ"
      },
      "execution_count": 88,
      "outputs": []
    },
    {
      "cell_type": "code",
      "source": [
        "round(H-weighted_entropy_wl_right,4)"
      ],
      "metadata": {
        "colab": {
          "base_uri": "https://localhost:8080/"
        },
        "id": "HlkppmNx_2y9",
        "outputId": "89077f99-1f73-4ce0-ec2b-c3dfa8979f7f"
      },
      "execution_count": 89,
      "outputs": [
        {
          "output_type": "execute_result",
          "data": {
            "text/plain": [
              "0.171"
            ]
          },
          "metadata": {},
          "execution_count": 89
        }
      ]
    },
    {
      "cell_type": "markdown",
      "source": [
        "## Question 2 - Areas"
      ],
      "metadata": {
        "id": "Csyq2BpUPs_F"
      }
    },
    {
      "cell_type": "code",
      "source": [
        "# entropy for overall data\n",
        "\n",
        "area_A = 0.41\n",
        "area_B = 0.46\n",
        "area_C = 0.13\n",
        "\n",
        "H = -(area_A*log2(area_A) + area_B*log2(area_B) + area_C*log2(area_C)) # area is same as probability of the class"
      ],
      "metadata": {
        "id": "82FaB-FpHsyk"
      },
      "execution_count": 23,
      "outputs": []
    },
    {
      "cell_type": "code",
      "source": [
        "print(round(H,4))"
      ],
      "metadata": {
        "colab": {
          "base_uri": "https://localhost:8080/"
        },
        "id": "dsSgYqzGPxcU",
        "outputId": "16273896-fa04-46f0-b9ea-ee889c6a5f8a"
      },
      "execution_count": 24,
      "outputs": [
        {
          "output_type": "stream",
          "name": "stdout",
          "text": [
            "1.4254\n"
          ]
        }
      ]
    },
    {
      "cell_type": "code",
      "source": [
        "# when x<=0.2\n",
        "area_A = 0\n",
        "area_B = 0.8\n",
        "area_C = 0.2\n",
        "H_1 = -(area_A*log2(area_A) + area_B*log2(area_B) + area_C*log2(area_C))\n",
        "\n",
        "# when x>0.2\n",
        "area_A = 0.4 + (0.09/0.8)\n",
        "area_B = 0.3/0.8\n",
        "area_C = 0.09/0.8\n",
        "H_2 = -(area_A*log2(area_A) + area_B*log2(area_B) + area_C*log2(area_C))"
      ],
      "metadata": {
        "id": "-x56CNvWS2Ah"
      },
      "execution_count": 20,
      "outputs": []
    },
    {
      "cell_type": "code",
      "source": [
        "weighted_H = 0.2*H_1 + 0.8*H_2 # area is same as probability of the class"
      ],
      "metadata": {
        "id": "Zlaa-JlhJxRO"
      },
      "execution_count": 21,
      "outputs": []
    },
    {
      "cell_type": "code",
      "source": [
        "info_gain = H-weighted_H\n",
        "print(round(info_gain,4))"
      ],
      "metadata": {
        "colab": {
          "base_uri": "https://localhost:8080/"
        },
        "id": "OzYBwV3KTFK3",
        "outputId": "a8be935d-a748-4e6e-f44e-43f2f8c8bebe"
      },
      "execution_count": 25,
      "outputs": [
        {
          "output_type": "stream",
          "name": "stdout",
          "text": [
            "0.1774\n"
          ]
        }
      ]
    },
    {
      "cell_type": "code",
      "source": [
        "# when x<=0.7\n",
        "area_A = 0.2/0.7\n",
        "area_B = 0.6 + (0.04/0.7)\n",
        "area_C = 0.04/7\n",
        "\n",
        "H_1 = -(area_A*log2(area_A) + area_B*log2(area_B) + area_C*log2(area_C)) # area is same as probability of the class\n",
        "\n",
        "# when x>0.7\n",
        "area_A = 0.7\n",
        "area_B = 0\n",
        "area_C = 0.3\n",
        "H_2 = -(area_A*log2(area_A) + area_B*log2(area_B) + area_C*log2(area_C))"
      ],
      "metadata": {
        "id": "4ETnmVnYLAJd"
      },
      "execution_count": 34,
      "outputs": []
    },
    {
      "cell_type": "code",
      "source": [
        "weighted_H = 0.7*H_1 + 0.2*H_2 # area is same as probability of the class\n",
        "info_gain = H-weighted_H\n",
        "print(round(info_gain,4))"
      ],
      "metadata": {
        "colab": {
          "base_uri": "https://localhost:8080/"
        },
        "id": "ThgFdKSgTIT6",
        "outputId": "8a8bfc10-936f-42ac-f347-9a1b2a730779"
      },
      "execution_count": 35,
      "outputs": [
        {
          "output_type": "stream",
          "name": "stdout",
          "text": [
            "0.5792\n"
          ]
        }
      ]
    },
    {
      "cell_type": "code",
      "source": [
        "# when y=<0.6\n",
        "area_A = 0.09/0.6\n",
        "area_B = 0.7\n",
        "area_C = 0.09/0.6\n",
        "\n",
        "H_1 = -(area_A*log2(area_A) + area_B*log2(area_B) + area_C*log2(area_C)) # area is same as probability of the class\n",
        "\n",
        "# when y>0.6\n",
        "area_A = 0.8\n",
        "area_B = 0.2*(0.2/0.4)\n",
        "area_C = 0.2*(0.2/0.4)\n",
        "H_2 = -(area_A*log2(area_A) + area_B*log2(area_B) + area_C*log2(area_C))"
      ],
      "metadata": {
        "id": "8yZuuf2QMpeX"
      },
      "execution_count": 32,
      "outputs": []
    },
    {
      "cell_type": "code",
      "source": [
        "weighted_H = 0.6*H_1 + 0.4*H_2 # area is same as probability of the class\n",
        "info_gain = H-weighted_H\n",
        "print(round(info_gain,4))"
      ],
      "metadata": {
        "colab": {
          "base_uri": "https://localhost:8080/"
        },
        "id": "KVp6SngDXgN1",
        "outputId": "78c2e2c1-bc4b-4307-f8f4-1ed70e2a76d4"
      },
      "execution_count": 33,
      "outputs": [
        {
          "output_type": "stream",
          "name": "stdout",
          "text": [
            "0.3478\n"
          ]
        }
      ]
    },
    {
      "cell_type": "markdown",
      "source": [
        "## Level 2 - Left\n"
      ],
      "metadata": {
        "id": "evLb0UzKgrYc"
      }
    },
    {
      "cell_type": "code",
      "source": [
        "# entropy of overall left area\n",
        "# entropy for overall data\n",
        "\n",
        "area_A = (0.5/0.7)*(0.4)\n",
        "area_B = (0.2*0.2/0.7)+0.6\n",
        "area_C = (0.2*0.2/0.7)\n",
        "\n",
        "H_left = -(area_A*log2(area_A) + area_B*log2(area_B) + area_C*log2(area_C)) # area is same as probability of the class"
      ],
      "metadata": {
        "id": "8aXR6-orjBie"
      },
      "execution_count": 44,
      "outputs": []
    },
    {
      "cell_type": "markdown",
      "source": [
        "### y=0.6"
      ],
      "metadata": {
        "id": "GxyxosQ8jCNV"
      }
    },
    {
      "cell_type": "code",
      "source": [
        "# y <= 0.6\n",
        "\n",
        "area_A = 0\n",
        "area_B = 1\n",
        "area_C = 0\n",
        "\n",
        "H_1 = -(area_A*log2(area_A) + area_B*log2(area_B) + area_C*log2(area_C))\n",
        "\n",
        "# when y>0.6\n",
        "area_A = 0.5/0.7\n",
        "area_B = 0.2/0.4*(0.2/0.7)\n",
        "area_C = 0.2/0.4*(0.2/0.7)\n",
        "H_2 = -(area_A*log2(area_A) + area_B*log2(area_B) + area_C*log2(area_C))"
      ],
      "metadata": {
        "id": "9otnuS6MYwC-"
      },
      "execution_count": 45,
      "outputs": []
    },
    {
      "cell_type": "code",
      "source": [
        "weighted_H = 0.6*H_1 + 0.4*H_2 # area is same as probability of the class\n",
        "info_gain = H_left-weighted_H\n",
        "print(round(info_gain,4))"
      ],
      "metadata": {
        "colab": {
          "base_uri": "https://localhost:8080/"
        },
        "id": "447DwdD2hVmD",
        "outputId": "863ae3c6-968b-4c55-b953-aeeb0f91a0b6"
      },
      "execution_count": 46,
      "outputs": [
        {
          "output_type": "stream",
          "name": "stdout",
          "text": [
            "0.6909\n"
          ]
        }
      ]
    },
    {
      "cell_type": "markdown",
      "source": [
        "y=0.3"
      ],
      "metadata": {
        "id": "kKKaXbPgkIqV"
      }
    },
    {
      "cell_type": "code",
      "source": [
        "# y <= 0.3\n",
        "\n",
        "area_A = 0\n",
        "area_B = 1\n",
        "area_C = 0\n",
        "\n",
        "H_1 = -(area_A*log2(area_A) + area_B*log2(area_B) + area_C*log2(area_C))\n",
        "\n",
        "# when y>0.3\n",
        "area_A = (0.5/0.7)*(0.4/0.7)\n",
        "area_B = (0.2/0.7*(0.2/0.7))+(0.3/0.7)\n",
        "area_C = (0.2/0.7)*(0.2/0.7)\n",
        "H_2 = -(area_A*log2(area_A) + area_B*log2(area_B) + area_C*log2(area_C))"
      ],
      "metadata": {
        "id": "py5upnZNkO1T"
      },
      "execution_count": 48,
      "outputs": []
    },
    {
      "cell_type": "code",
      "source": [
        "weighted_H = 0.3*H_1 + 0.7*H_2 # area is same as probability of the class\n",
        "info_gain = H_left-weighted_H\n",
        "print(round(info_gain,4))"
      ],
      "metadata": {
        "colab": {
          "base_uri": "https://localhost:8080/"
        },
        "id": "xD13NaWJkSJK",
        "outputId": "44a4e54b-e8b6-46f5-dc30-1e3b4a887a0e"
      },
      "execution_count": 49,
      "outputs": [
        {
          "output_type": "stream",
          "name": "stdout",
          "text": [
            "0.2277\n"
          ]
        }
      ]
    },
    {
      "cell_type": "markdown",
      "source": [
        "### y=0.8"
      ],
      "metadata": {
        "id": "6Iq9PMi3lYo5"
      }
    },
    {
      "cell_type": "code",
      "source": [
        "# y > 0.8\n",
        "\n",
        "area_A = 0.2/0.07\n",
        "area_B = 0.5/0.7\n",
        "area_C = 0\n",
        "\n",
        "H_1 = -(area_A*log2(area_A) + area_B*log2(area_B) + area_C*log2(area_C))\n",
        "\n",
        "# when y<=0.8\n",
        "area_A = (0.5/0.7)*(0.2/0.8)\n",
        "area_B = (0.6/0.8)\n",
        "area_C = (0.2/0.7)*(0.2/0.8)\n",
        "H_2 = -(area_A*log2(area_A) + area_B*log2(area_B) + area_C*log2(area_C))"
      ],
      "metadata": {
        "id": "SBj-twjmlV-k"
      },
      "execution_count": 51,
      "outputs": []
    },
    {
      "cell_type": "code",
      "source": [
        "weighted_H = 0.2*H_1 + 0.8*H_2 # area is same as probability of the class\n",
        "info_gain = H_left-weighted_H\n",
        "print(round(info_gain,4))"
      ],
      "metadata": {
        "colab": {
          "base_uri": "https://localhost:8080/"
        },
        "id": "p6Fx6OuCmqG2",
        "outputId": "16e7358f-0158-4119-ba4b-7cb05d52fdfb"
      },
      "execution_count": 54,
      "outputs": [
        {
          "output_type": "stream",
          "name": "stdout",
          "text": [
            "1.1249\n"
          ]
        }
      ]
    },
    {
      "cell_type": "markdown",
      "source": [
        "### x = 0.2"
      ],
      "metadata": {
        "id": "03PQQBOnnRWs"
      }
    },
    {
      "cell_type": "code",
      "source": [
        "# x < 0.2\n",
        "\n",
        "area_A = 0\n",
        "area_B = 0.2 + (0.6)\n",
        "area_C = 0.2\n",
        "\n",
        "H_1 = -(area_A*log2(area_A) + area_B*log2(area_B) + area_C*log2(area_C))\n",
        "\n",
        "# when x>=0.2\n",
        "area_A = 0.4\n",
        "area_B = 0.6\n",
        "area_C = 0\n",
        "H_2 = -(area_A*log2(area_A) + area_B*log2(area_B) + area_C*log2(area_C))"
      ],
      "metadata": {
        "id": "t18xsiYQnVHW"
      },
      "execution_count": 55,
      "outputs": []
    },
    {
      "cell_type": "code",
      "source": [
        "weighted_H = 0.2*H_1 + 0.8*H_2 # area is same as probability of the class\n",
        "info_gain = H_left-weighted_H\n",
        "print(round(info_gain,4))"
      ],
      "metadata": {
        "colab": {
          "base_uri": "https://localhost:8080/"
        },
        "id": "AS2tLDMNnXPF",
        "outputId": "63bb6318-d71b-4639-f698-0b660366f2e4"
      },
      "execution_count": 56,
      "outputs": [
        {
          "output_type": "stream",
          "name": "stdout",
          "text": [
            "0.2292\n"
          ]
        }
      ]
    },
    {
      "cell_type": "markdown",
      "source": [
        "## Level 2 - Right"
      ],
      "metadata": {
        "id": "zrzkjZSarLEm"
      }
    },
    {
      "cell_type": "code",
      "source": [
        "# entropy of overall right area\n",
        "# entropy for overall data\n",
        "\n",
        "area_A = 0.7\n",
        "area_B = 0\n",
        "area_C = 0.3\n",
        "\n",
        "H_right = -(area_A*log2(area_A) + area_B*log2(area_B) + area_C*log2(area_C)) # area is same as probability of the class"
      ],
      "metadata": {
        "id": "lKgI5T_wrQeR"
      },
      "execution_count": 75,
      "outputs": []
    },
    {
      "cell_type": "code",
      "source": [
        "# y <= 0.6\n",
        "\n",
        "area_A = 0.3/0.6\n",
        "area_B = 0\n",
        "area_C = 0.3/0.6\n",
        "\n",
        "H_1 = -(area_A*log2(area_A) + area_B*log2(area_B) + area_C*log2(area_C))\n",
        "\n",
        "# when y>0.6\n",
        "area_A = 1\n",
        "area_B = 0\n",
        "area_C = 0\n",
        "H_2 = -(area_A*log2(area_A) + area_B*log2(area_B) + area_C*log2(area_C))"
      ],
      "metadata": {
        "id": "K1fkmNtMrsPm"
      },
      "execution_count": 66,
      "outputs": []
    },
    {
      "cell_type": "code",
      "source": [
        "weighted_H = 0.6*H_1 + 0.4*H_2 # area is same as probability of the class\n",
        "info_gain = H_right-weighted_H\n",
        "print(round(info_gain,4))"
      ],
      "metadata": {
        "colab": {
          "base_uri": "https://localhost:8080/"
        },
        "id": "lSy8vtoksDxk",
        "outputId": "30431fa2-cfe9-4918-9ffe-a66dd47e7428"
      },
      "execution_count": 67,
      "outputs": [
        {
          "output_type": "stream",
          "name": "stdout",
          "text": [
            "0.2813\n"
          ]
        }
      ]
    },
    {
      "cell_type": "code",
      "source": [
        "# y <= 0.3\n",
        "\n",
        "area_A = 1\n",
        "area_B = 0\n",
        "area_C = 0\n",
        "\n",
        "H_1 = -(area_A*log2(area_A) + area_B*log2(area_B) + area_C*log2(area_C))\n",
        "\n",
        "# when y>0.3\n",
        "area_A = 0.4/0.7\n",
        "area_B = 0\n",
        "area_C = 0.3/0.7\n",
        "H_2 = -(area_A*log2(area_A) + area_B*log2(area_B) + area_C*log2(area_C))"
      ],
      "metadata": {
        "id": "vi0L6-23slOk"
      },
      "execution_count": 68,
      "outputs": []
    },
    {
      "cell_type": "code",
      "source": [
        "weighted_H = 0.3*H_1 + 0.7*H_2 # area is same as probability of the class\n",
        "info_gain = H_right-weighted_H\n",
        "print(round(info_gain,4))"
      ],
      "metadata": {
        "colab": {
          "base_uri": "https://localhost:8080/"
        },
        "id": "RmKsb5ufsx21",
        "outputId": "484fff74-0079-454b-ee7d-9720028fb5de"
      },
      "execution_count": 69,
      "outputs": [
        {
          "output_type": "stream",
          "name": "stdout",
          "text": [
            "0.1916\n"
          ]
        }
      ]
    },
    {
      "cell_type": "code",
      "source": [
        "# y > 0.8\n",
        "\n",
        "area_A = 1\n",
        "area_B = 0\n",
        "area_C = 0\n",
        "\n",
        "H_1 = -(area_A*log2(area_A) + area_B*log2(area_B) + area_C*log2(area_C))\n",
        "\n",
        "# when y<=0.8\n",
        "area_A = (0.3/0.8) + (0.2/0.8)\n",
        "area_B = 0\n",
        "area_C = (0.3/0.8)\n",
        "H_2 = -(area_A*log2(area_A) + area_B*log2(area_B) + area_C*log2(area_C))"
      ],
      "metadata": {
        "id": "PoaEJwvds5CT"
      },
      "execution_count": 70,
      "outputs": []
    },
    {
      "cell_type": "code",
      "source": [
        "weighted_H = 0.2*H_1 + 0.8*H_2 # area is same as probability of the class\n",
        "info_gain = H_right-weighted_H\n",
        "print(round(info_gain,4))"
      ],
      "metadata": {
        "colab": {
          "base_uri": "https://localhost:8080/"
        },
        "id": "Sh6MCXuGtShc",
        "outputId": "48592294-da33-4ca5-84ca-bd674d1d04a1"
      },
      "execution_count": 71,
      "outputs": [
        {
          "output_type": "stream",
          "name": "stdout",
          "text": [
            "0.1177\n"
          ]
        }
      ]
    },
    {
      "cell_type": "code",
      "source": [
        "# x < 0.2\n",
        "\n",
        "area_A = 0\n",
        "area_B = 0\n",
        "area_C = 0\n",
        "\n",
        "H_1 = -(area_A*log2(area_A) + area_B*log2(area_B) + area_C*log2(area_C))\n",
        "\n",
        "# when x>=0.2\n",
        "area_A = 0.7\n",
        "area_B = 0\n",
        "area_C = 0.3\n",
        "H_2 = -(area_A*log2(area_A) + area_B*log2(area_B) + area_C*log2(area_C))"
      ],
      "metadata": {
        "id": "ukRo8PtBtbVj"
      },
      "execution_count": 76,
      "outputs": []
    },
    {
      "cell_type": "code",
      "source": [
        "weighted_H = 0.2*H_1 + 0.8*H_2 # area is same as probability of the class\n",
        "info_gain = H_right-weighted_H\n",
        "print(round(info_gain,4))"
      ],
      "metadata": {
        "colab": {
          "base_uri": "https://localhost:8080/"
        },
        "id": "R5VNCK5ftfvp",
        "outputId": "cf7ff5e9-502c-49aa-88f7-7af641df85e0"
      },
      "execution_count": 77,
      "outputs": [
        {
          "output_type": "stream",
          "name": "stdout",
          "text": [
            "0.1763\n"
          ]
        }
      ]
    },
    {
      "cell_type": "markdown",
      "source": [
        "## Level 3 - Left - left"
      ],
      "metadata": {
        "id": "23bycyvCxbdO"
      }
    },
    {
      "cell_type": "code",
      "source": [
        "# entropy of overall left area\n",
        "# entropy for overall data\n",
        "\n",
        "area_A = (0.5/0.7)*(0.2/0.8)\n",
        "area_B = 0.6/0.8\n",
        "area_C = (0.2/0.8)*(0.2/0.7)\n",
        "\n",
        "H_left_left = -(area_A*log2(area_A) + area_B*log2(area_B) + area_C*log2(area_C)) # area is same as probability of the class"
      ],
      "metadata": {
        "id": "NKmQLMrHxjWG"
      },
      "execution_count": 80,
      "outputs": []
    },
    {
      "cell_type": "code",
      "source": [
        "# y <= 0.3\n",
        "\n",
        "area_A = 0\n",
        "area_B = 1\n",
        "area_C = 0\n",
        "\n",
        "H_1 = -(area_A*log2(area_A) + area_B*log2(area_B) + area_C*log2(area_C))\n",
        "\n",
        "# when y>0.3\n",
        "area_A = (0.2/0.5)*(0.5/0.7)\n",
        "area_B = 0.3/0.7\n",
        "area_C = (0.2/0.7)*(0.2/0.5)\n",
        "H_2 = -(area_A*log2(area_A) + area_B*log2(area_B) + area_C*log2(area_C))"
      ],
      "metadata": {
        "id": "zRsZ1P-RyPpe"
      },
      "execution_count": 82,
      "outputs": []
    },
    {
      "cell_type": "code",
      "source": [
        "weighted_H = 0.3*H_1 + 0.7*H_2 # area is same as probability of the class\n",
        "info_gain = H_left_left-weighted_H\n",
        "print(round(info_gain,4))"
      ],
      "metadata": {
        "colab": {
          "base_uri": "https://localhost:8080/"
        },
        "id": "qblTzC_XzRg6",
        "outputId": "52ebf338-82d6-41e6-cabf-87c602b50e2e"
      },
      "execution_count": 83,
      "outputs": [
        {
          "output_type": "stream",
          "name": "stdout",
          "text": [
            "0.0485\n"
          ]
        }
      ]
    },
    {
      "cell_type": "code",
      "source": [
        "# y <= 0.6\n",
        "\n",
        "area_A = 0\n",
        "area_B = 1\n",
        "area_C = 0\n",
        "\n",
        "H_1 = -(area_A*log2(area_A) + area_B*log2(area_B) + area_C*log2(area_C))\n",
        "\n",
        "# when y>0.6\n",
        "area_A = 0.5/0.7\n",
        "area_B = 0\n",
        "area_C = 0.2/0.7\n",
        "H_2 = -(area_A*log2(area_A) + area_B*log2(area_B) + area_C*log2(area_C))"
      ],
      "metadata": {
        "id": "nG5IHP1S0PE6"
      },
      "execution_count": 84,
      "outputs": []
    },
    {
      "cell_type": "code",
      "source": [
        "weighted_H = 0.6*H_1 + 0.4*H_2 # area is same as probability of the class\n",
        "info_gain = H_left_left-weighted_H\n",
        "print(round(info_gain,4))"
      ],
      "metadata": {
        "colab": {
          "base_uri": "https://localhost:8080/"
        },
        "id": "RXgPACDo0cwx",
        "outputId": "fd5f122d-5afc-414f-f048-da947a5f06b7"
      },
      "execution_count": 85,
      "outputs": [
        {
          "output_type": "stream",
          "name": "stdout",
          "text": [
            "0.6818\n"
          ]
        }
      ]
    },
    {
      "cell_type": "code",
      "source": [
        "# x < 0.2\n",
        "\n",
        "area_A = 0\n",
        "area_B = 0\n",
        "area_C = 0\n",
        "\n",
        "H_1 = -(area_A*log2(area_A) + area_B*log2(area_B) + area_C*log2(area_C))\n",
        "\n",
        "# when x>=0.2\n",
        "area_A = 0.7\n",
        "area_B = 0\n",
        "area_C = 0.3\n",
        "H_2 = -(area_A*log2(area_A) + area_B*log2(area_B) + area_C*log2(area_C))"
      ],
      "metadata": {
        "id": "SOnUiije0glN"
      },
      "execution_count": null,
      "outputs": []
    },
    {
      "cell_type": "code",
      "source": [
        "weighted_H = 0.2*H_1 + 0.8*H_2 # area is same as probability of the class\n",
        "info_gain = H_right-weighted_H\n",
        "print(round(info_gain,4))"
      ],
      "metadata": {
        "id": "erd4gZQ10sR3"
      },
      "execution_count": null,
      "outputs": []
    },
    {
      "cell_type": "markdown",
      "source": [
        "## Question 7"
      ],
      "metadata": {
        "id": "StUSEm-k-8t7"
      }
    },
    {
      "cell_type": "code",
      "source": [
        "# entropy\n",
        "H = -(10/20*(log2(10/20)) + 10/20*(log2(10/20)))"
      ],
      "metadata": {
        "id": "mpyHJ4ss--rk"
      },
      "execution_count": 86,
      "outputs": []
    },
    {
      "cell_type": "code",
      "source": [
        "H_handedness = 10/20*(-(1/10*(log2(1/10)) + 9/10*(log2(9/10)))) + 10/20*(-(1/10*(log2(1/10)) + 9/10*(log2(9/10))))"
      ],
      "metadata": {
        "id": "V4qEUckq_dKe"
      },
      "execution_count": 88,
      "outputs": []
    },
    {
      "cell_type": "code",
      "source": [
        "H-H_handedness"
      ],
      "metadata": {
        "colab": {
          "base_uri": "https://localhost:8080/"
        },
        "id": "tc0CnaFp_tM9",
        "outputId": "34e27879-b03f-49ef-c926-40e3ad04773c"
      },
      "execution_count": 89,
      "outputs": [
        {
          "output_type": "execute_result",
          "data": {
            "text/plain": [
              "0.5310044064107188"
            ]
          },
          "metadata": {},
          "execution_count": 89
        }
      ]
    },
    {
      "cell_type": "markdown",
      "source": [
        "#### Gain ratio"
      ],
      "metadata": {
        "id": "wADLBFtT_vqF"
      }
    },
    {
      "cell_type": "code",
      "source": [
        "# Handedness\n",
        "(H-H_handedness)/(-(10/20*log2(10/20)+10/20*log2(10/20)))"
      ],
      "metadata": {
        "colab": {
          "base_uri": "https://localhost:8080/"
        },
        "id": "T4CC3vSD_yby",
        "outputId": "0ea57c2c-f533-4724-95af-81ed95b83648"
      },
      "execution_count": 90,
      "outputs": [
        {
          "output_type": "execute_result",
          "data": {
            "text/plain": [
              "0.5310044064107188"
            ]
          },
          "metadata": {},
          "execution_count": 90
        }
      ]
    },
    {
      "cell_type": "code",
      "source": [
        "# ID\n",
        "1/(-(20*1/20*log2(1/20)))"
      ],
      "metadata": {
        "colab": {
          "base_uri": "https://localhost:8080/"
        },
        "id": "PtvBWhMhBCWy",
        "outputId": "e1af4f88-e317-4b82-cc74-925fafd2c543"
      },
      "execution_count": 97,
      "outputs": [
        {
          "output_type": "execute_result",
          "data": {
            "text/plain": [
              "0.23137821315975915"
            ]
          },
          "metadata": {},
          "execution_count": 97
        }
      ]
    }
  ]
}